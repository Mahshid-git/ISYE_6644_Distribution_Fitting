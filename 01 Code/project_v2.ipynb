{
 "cells": [
  {
   "cell_type": "markdown",
   "id": "dbbdadff",
   "metadata": {},
   "source": [
    "### Problem Statement:\n",
    "\n",
    "Make me a nice library of routines for fitting input distributions.\n",
    "The input to a fitting routine for a particular distribution should be a bunch of\n",
    "observations; the output should be the maximum likelihood estimate. You can use\n",
    "your favorite high-level language like C++, Java, Python, Matlab, or even Excel.\n",
    "Include in your library maximum likelihood estimation routines for fitting all of\n",
    "the usual discrete and continuous distributions, e.g., Bern(p), Geom(p), Exp(λ),\n",
    "Normal(μ, σ2), Gamma(α, β), Weibull(α, β), etc., etc. Beware! The Weibull takes\n",
    "a little work (so does the gamma, for that matter). Luckily, everything is outlined\n",
    "very clearly in my notes and/or Law (2015). Include in your write-up an easy user’s\n",
    "guide, complete source code, and some appropriate examples. The examples should\n",
    "be along the following illustrative lines: Generate some example data; attempt to\n",
    "fit the data to various distributions; conduct χ2 goodness-of-fit tests to show how\n",
    "well the fits do. For instance, if you generate some example Weibull data, a Weibull\n",
    "fit ought to do better than an exponential fit"
   ]
  },
  {
   "cell_type": "code",
   "execution_count": 9,
   "id": "d402f8a5",
   "metadata": {},
   "outputs": [],
   "source": [
    "import numpy as np\n",
    "from scipy.stats import chisquare\n",
    "import scipy.stats as stats\n",
    "import pandas as pd\n",
    "import matplotlib.pyplot as plt"
   ]
  },
  {
   "cell_type": "markdown",
   "id": "2d8a0905",
   "metadata": {},
   "source": [
    "### Data Generation Function:\n",
    "\n",
    "Function below generates data for different distribution types including 'normal', 'geometric', 'gamma', 'binomial', 'exponential', and 'weibull'. parameters for this function are as below: <br>\n",
    "    - dist_type: which is a string format indicating the distribution type we are looking for <br>\n",
    "    - par: is the required parameters for each distribution type <br>\n",
    "    - row_count: is the size of the data <br>  \n",
    "More distribution types can be added to the function later. <br>\n"
   ]
  },
  {
   "cell_type": "code",
   "execution_count": 2,
   "id": "c973cd0b",
   "metadata": {},
   "outputs": [],
   "source": [
    "# Define a function to generate different data types\n",
    "\n",
    "row_count=10000\n",
    "\n",
    "def data_generation(dist_type, par, row_count):\n",
    "    if dist_type== 'normal':\n",
    "        mean, std = par\n",
    "        data=np.random.normal(mean, std, row_count)\n",
    "    \n",
    "    elif dist_type== 'geometric':\n",
    "        p= par\n",
    "        data=np.random.geometric(p, row_count)  \n",
    "       \n",
    "    elif dist_type== 'binomial':\n",
    "        n, p= par\n",
    "        data=np.random.binomial(n, p, row_count)\n",
    "    \n",
    "    elif dist_type == 'poisson':\n",
    "        l= params\n",
    "        data = np.random.poisson(l, row_count)    \n",
    "    \n",
    "    elif dist_type== 'exponential':\n",
    "        scale= par\n",
    "        data=np.random.exponential(scale, row_count)\n",
    "   \n",
    "    elif dist_type == 'gamma':\n",
    "        shape , scale = par\n",
    "        data=np.random.gamma(shape, scale, row_count)\n",
    "    \n",
    "    elif dist_type == 'weibull':\n",
    "        a= par\n",
    "        data=np.random.weibull(a, row_count)   \n",
    "    \n",
    "    else:\n",
    "        raise ValueError(\"Change distribution type or modify parameters\")\n",
    "        \n",
    "    return data"
   ]
  },
  {
   "cell_type": "code",
   "execution_count": 3,
   "id": "646269af",
   "metadata": {},
   "outputs": [],
   "source": [
    "def chi_square_test(observed, expected):\n",
    "    chi_square_statistic = np.sum((observed - expected) ** 2 / expected)\n",
    "    df = len(observed) - 1\n",
    "    p_value = 1 - stats.chi2.cdf(chi_square_statistic, df)\n",
    "    return chi_square_statistic, p_value"
   ]
  },
  {
   "cell_type": "code",
   "execution_count": 6,
   "id": "650791bf",
   "metadata": {},
   "outputs": [
    {
     "data": {
      "text/plain": [
       "array([ 0.04952592, -0.59152811, -0.85714356, ..., -0.76277527,\n",
       "        2.60043321,  0.92747126])"
      ]
     },
     "execution_count": 6,
     "metadata": {},
     "output_type": "execute_result"
    }
   ],
   "source": [
    "# I start with a normal distribution data:\n",
    "row_count=10000\n",
    "data=data_generation('normal', [0,1], row_count)\n",
    "data"
   ]
  },
  {
   "cell_type": "markdown",
   "id": "ad0588c5",
   "metadata": {},
   "source": [
    "## Fitting Different Types of Distributions on Generated Data\n",
    "\n",
    "In the function below, I intend to fit various types of distributions to the generated data and then perform goodness-of-fit tests for each distribution type. Additionally, I created a dictionary that stores the parameters of each fit along with their respective chi-squared statistics. The next step will involve comparing these fits to identify the best-fitting distribution by assessing their respective chi-squared statistic values. As of now, I have initiated this process with normal and exponential fits, and I plan to expand this to include more distribution types later.\n"
   ]
  },
  {
   "cell_type": "code",
   "execution_count": 70,
   "id": "93308e28",
   "metadata": {},
   "outputs": [],
   "source": [
    "# #fit the data to various distributions\n",
    "# def fit_data_to_distributions(data):\n",
    "#     fitted_distributions = {}\n",
    "\n",
    "#     #fit data to the Normal distribution\n",
    "#     norm_params = stats.norm.fit(data)\n",
    "#     #print(norm_params)\n",
    "#     fitted_distributions['normal'] = norm_params\n",
    "#     actual=np.histogram(data, bins=100)[0]\n",
    "#     #print(actual)\n",
    "#     x=np.linspace(data.min(), data.max(), 100)\n",
    "#     expected_data = stats.norm.pdf(x, *norm_params)\n",
    "#     chi2_test_statistic, p_value = chi_square_test(actual, expected_data)\n",
    "#     #chi2_test_statistic, p_value = stats.chisquare(actual, expected_data) \n",
    "#     fitted_distributions['chi2_norm']= chi2_test_statistic\n",
    "\n",
    "#     #fit data to the Exponential distribution\n",
    "#     exp_params = stats.expon.fit(data)\n",
    "#     fitted_distributions['exponential'] = exp_params\n",
    "#     expected_data = stats.expon.pdf(x, *exp_params)\n",
    "#     chi2_test_statistic, p_value = chi_square_test(actual, expected_data)\n",
    "#     #chi2_test_statistic, p_value = stats.chisquare(actual, expected_data) \n",
    "#     fitted_distributions['chi2_exp']= chi2_test_statistic\n",
    "    \n",
    "#     return fitted_distributions\n",
    "\n",
    "# fitted_distributions = fit_data_to_distributions(data)\n"
   ]
  },
  {
   "cell_type": "code",
   "execution_count": 71,
   "id": "ca922b97",
   "metadata": {},
   "outputs": [
    {
     "data": {
      "text/plain": [
       "{'normal': (0.0017798411305455246, 0.9967940519739784),\n",
       " 'chi2_norm': 8077401.667357394,\n",
       " 'exponential': (-4.016555114750013, 4.018334955880559),\n",
       " 'chi2_exp': 24802722.556280952}"
      ]
     },
     "execution_count": 71,
     "metadata": {},
     "output_type": "execute_result"
    }
   ],
   "source": [
    "# fitted_distributions"
   ]
  },
  {
   "cell_type": "markdown",
   "id": "ac40e59d",
   "metadata": {},
   "source": [
    "### Normal"
   ]
  },
  {
   "cell_type": "code",
   "execution_count": 5,
   "id": "7f69ab49",
   "metadata": {},
   "outputs": [],
   "source": [
    "def normal_fit(data):\n",
    "        '''\n",
    "        fits data to normal distribution\n",
    "\n",
    "        Args:\n",
    "            data (pandas dataframe): data to be fitted to the specified distribution \n",
    "\n",
    "        Returns: \n",
    "            mu: sample mean (1st parameter of Normal distribution) \n",
    "            sigma: sample standard deviation (2nd parameter of Normal distribution)\n",
    "        '''\n",
    "        if isinstance(data, pd.DataFrame):\n",
    "                pass\n",
    "        else:\n",
    "                data = pd.Series(data)\n",
    "        mu = data.mean()\n",
    "        sigma = data.std()\n",
    "\n",
    "        return (mu, sigma)\n",
    "    \n",
    "def normal_plot(data, params):\n",
    "        x = (np.arange(-4, 4,.05))*params[1]+params[0]\n",
    "        y = (1/(params[1]*np.sqrt(2*np.pi)))*np.exp(-((x-params[0])**2)/(2*params[1]**2))\n",
    "        plt.hist(data, alpha=.4, density = True, label=\"Data Histogram\")\n",
    "        plt.plot(x, y, color ='r', label=\"Fitted Normal\")\n",
    "        plt.legend()\n",
    "        plt.show()\n",
    "        pass"
   ]
  },
  {
   "cell_type": "code",
   "execution_count": 10,
   "id": "97cf7cd1",
   "metadata": {},
   "outputs": [
    {
     "name": "stdout",
     "output_type": "stream",
     "text": [
      "(2.051266543398666, 3.0007585408507116)\n"
     ]
    },
    {
     "data": {
      "image/png": "[encoded data removed]",
      "text/plain": [
       "<Figure size 640x480 with 1 Axes>"
      ]
     },
     "metadata": {},
     "output_type": "display_data"
    }
   ],
   "source": [
    "data_norm=data_generation('normal', [2,3], row_count)\n",
    "print(normal_fit(data_norm))\n",
    "normal_plot(data=data_norm, params=normal_fit(data_norm))"
   ]
  },
  {
   "cell_type": "markdown",
   "id": "71bd2bd1",
   "metadata": {},
   "source": [
    "### Exponential"
   ]
  },
  {
   "cell_type": "code",
   "execution_count": 28,
   "id": "d67ef702",
   "metadata": {},
   "outputs": [],
   "source": [
    "def exponential_fit(data):\n",
    "        '''\n",
    "        fits data to exponential distribution\n",
    "\n",
    "        Args:\n",
    "            data (pandas dataframe): data to be fitted to the specified distribution \n",
    "\n",
    "        Returns: \n",
    "            mu: 1/rate, parameter of exponential distribution \n",
    "        '''\n",
    "        if isinstance(data, pd.DataFrame):\n",
    "                pass\n",
    "        else:\n",
    "                data = pd.Series(data)\n",
    "        mu = data.mean()\n",
    "\n",
    "        return mu\n",
    "    \n",
    "def exponential_plot(data, params):\n",
    "        x = np.arange(0, params*10,.01)\n",
    "        y = (1/params)*np.exp(-x/params)\n",
    "        plt.hist(data, alpha=.4, density = True, label=\"Data Histogram\")\n",
    "        plt.plot(x, y, color ='r', label=\"Fitted Exponential\")\n",
    "        plt.legend()\n",
    "        plt.show()\n",
    "        pass"
   ]
  },
  {
   "cell_type": "code",
   "execution_count": 29,
   "id": "23de6330",
   "metadata": {},
   "outputs": [
    {
     "name": "stdout",
     "output_type": "stream",
     "text": [
      "5.02439338292347\n"
     ]
    },
    {
     "data": {
      "image/png": "[encoded data removed]",
      "text/plain": [
       "<Figure size 640x480 with 1 Axes>"
      ]
     },
     "metadata": {},
     "output_type": "display_data"
    }
   ],
   "source": [
    "data_exp=data_generation('exponential', [5], row_count)\n",
    "print(exponential_fit(data_exp))\n",
    "exponential_plot(data=data_exp, params=exponential_fit(data_exp))"
   ]
  }
 ],
 "metadata": {
  "kernelspec": {
   "display_name": "Python 3 (ipykernel)",
   "language": "python",
   "name": "python3"
  },
  "language_info": {
   "codemirror_mode": {
    "name": "ipython",
    "version": 3
   },
   "file_extension": ".py",
   "mimetype": "text/x-python",
   "name": "python",
   "nbconvert_exporter": "python",
   "pygments_lexer": "ipython3",
   "version": "3.11.4"
  }
 },
 "nbformat": 4,
 "nbformat_minor": 5
}
