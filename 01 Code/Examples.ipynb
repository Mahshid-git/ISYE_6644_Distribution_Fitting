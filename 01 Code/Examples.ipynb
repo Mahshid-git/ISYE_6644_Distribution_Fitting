{
 "cells": [
  {
   "cell_type": "markdown",
   "id": "a5da478f",
   "metadata": {},
   "source": [
    "# An Example of how to use Fitting package to fit data"
   ]
  },
  {
   "cell_type": "code",
   "execution_count": 2,
   "id": "0a9897af",
   "metadata": {},
   "outputs": [],
   "source": [
    "import DistFit.distfit as dft\n",
    "import DistFit.datagen as dgn\n",
    "import DistFit.gof as gof"
   ]
  },
  {
   "cell_type": "markdown",
   "id": "d0422081",
   "metadata": {},
   "source": [
    "# Examples Using Fitting Class"
   ]
  },
  {
   "cell_type": "markdown",
   "id": "88325679",
   "metadata": {},
   "source": [
    "### 1) Bernoulli(0.3)"
   ]
  },
  {
   "cell_type": "code",
   "execution_count": 2,
   "id": "80dbf20d",
   "metadata": {},
   "outputs": [],
   "source": [
    "# generate data\n",
    "# binomial with n=1 is Bernoulli\n",
    "data_dist = dgn.Datagen(dist_type='binomial', row_count=1000, par=(1, 0.3), seed=1) \n",
    "data = data_dist.data_generation()"
   ]
  },
  {
   "cell_type": "code",
   "execution_count": 3,
   "id": "7c57d77e",
   "metadata": {},
   "outputs": [
    {
     "name": "stdout",
     "output_type": "stream",
     "text": [
      "The fitted MLE parameter is 0.2970.\n"
     ]
    }
   ],
   "source": [
    "# estimate MLE parameter\n",
    "model = dft.Fitting(data, dist_type='bernoulli')\n",
    "fitted_mle_param = model.fit()\n",
    "print(\"The fitted MLE parameter is %.4f.\" %fitted_mle_param)"
   ]
  },
  {
   "cell_type": "code",
   "execution_count": 4,
   "id": "48842c92",
   "metadata": {},
   "outputs": [
    {
     "name": "stdout",
     "output_type": "stream",
     "text": [
      "Note: only a limited number of distributions are considered in this library.\n",
      "\n",
      "The possible distributions for the data are: ['Bernoulli']\n"
     ]
    },
    {
     "data": {
      "text/plain": [
       "['Bernoulli']"
      ]
     },
     "execution_count": 4,
     "metadata": {},
     "output_type": "execute_result"
    }
   ],
   "source": [
    "# check data to find potential distributions (useful for unknown data)\n",
    "model.guess_distributions()"
   ]
  },
  {
   "cell_type": "code",
   "execution_count": 5,
   "id": "2710a145",
   "metadata": {},
   "outputs": [
    {
     "data": {
      "image/png": "[encoded data removed]",
      "text/plain": [
       "<Figure size 640x480 with 1 Axes>"
      ]
     },
     "metadata": {},
     "output_type": "display_data"
    }
   ],
   "source": [
    "# plot data histogram vs. fited distribution\n",
    "model.bernoulli_plot(fitted_mle_param)"
   ]
  },
  {
   "cell_type": "code",
   "execution_count": 6,
   "id": "b49aef29",
   "metadata": {},
   "outputs": [
    {
     "ename": "ValueError",
     "evalue": "GoF is not valid for Bernoulli.",
     "output_type": "error",
     "traceback": [
      "\u001b[1;31m---------------------------------------------------------------------------\u001b[0m",
      "\u001b[1;31mValueError\u001b[0m                                Traceback (most recent call last)",
      "Cell \u001b[1;32mIn[6], line 3\u001b[0m\n\u001b[0;32m      1\u001b[0m \u001b[38;5;66;03m# perform Goodness of Fit test\u001b[39;00m\n\u001b[0;32m      2\u001b[0m gof_test \u001b[38;5;241m=\u001b[39m gof\u001b[38;5;241m.\u001b[39mGof(dist_type\u001b[38;5;241m=\u001b[39m\u001b[38;5;124m'\u001b[39m\u001b[38;5;124mbernoulli\u001b[39m\u001b[38;5;124m'\u001b[39m, par\u001b[38;5;241m=\u001b[39m(fitted_mle_param))\n\u001b[1;32m----> 3\u001b[0m gof_test\u001b[38;5;241m.\u001b[39mgof(data)\n",
      "File \u001b[1;32m~\\OneDrive\\Documents\\GitHub\\ISYE_6644_Distribution_Fitting\\01 Code\\DistFit\\gof.py:87\u001b[0m, in \u001b[0;36mGof.gof\u001b[1;34m(self, data, k, alfa, seed)\u001b[0m\n\u001b[0;32m     85\u001b[0m \u001b[38;5;28;01mdef\u001b[39;00m \u001b[38;5;21mgof\u001b[39m(\u001b[38;5;28mself\u001b[39m, data, k\u001b[38;5;241m=\u001b[39m\u001b[38;5;241m5\u001b[39m, alfa\u001b[38;5;241m=\u001b[39m\u001b[38;5;241m0.05\u001b[39m, seed\u001b[38;5;241m=\u001b[39m\u001b[38;5;241m43\u001b[39m):\n\u001b[0;32m     86\u001b[0m     \u001b[38;5;28;01mif\u001b[39;00m \u001b[38;5;28mself\u001b[39m\u001b[38;5;241m.\u001b[39mdist_type \u001b[38;5;241m==\u001b[39m \u001b[38;5;124m'\u001b[39m\u001b[38;5;124mbernoulli\u001b[39m\u001b[38;5;124m'\u001b[39m:\n\u001b[1;32m---> 87\u001b[0m         \u001b[38;5;28;01mraise\u001b[39;00m \u001b[38;5;167;01mValueError\u001b[39;00m(\u001b[38;5;124m\"\u001b[39m\u001b[38;5;124mGoF is not valid for Bernoulli.\u001b[39m\u001b[38;5;124m\"\u001b[39m)\n\u001b[0;32m     88\u001b[0m     size \u001b[38;5;241m=\u001b[39m data\u001b[38;5;241m.\u001b[39mshape[\u001b[38;5;241m0\u001b[39m]\n\u001b[0;32m     89\u001b[0m     \u001b[38;5;66;03m# generate data from expected distribution\u001b[39;00m\n",
      "\u001b[1;31mValueError\u001b[0m: GoF is not valid for Bernoulli."
     ]
    }
   ],
   "source": [
    "# perform Goodness of Fit test\n",
    "# This should raise error\n",
    "gof_test = gof.Gof(dist_type='bernoulli', par=(fitted_mle_param))\n",
    "gof_test.gof(data)"
   ]
  },
  {
   "cell_type": "markdown",
   "id": "032900b7",
   "metadata": {},
   "source": [
    "### 2) Binomial(10, 0.7)"
   ]
  },
  {
   "cell_type": "code",
   "execution_count": 7,
   "id": "dade4cf5",
   "metadata": {},
   "outputs": [],
   "source": [
    "# generate data\n",
    "# binomial with n=1 is Bernoulli\n",
    "data_dist = dgn.Datagen(dist_type='binomial', row_count=1000, par=(10, 0.7), seed=1) \n",
    "data = data_dist.data_generation()"
   ]
  },
  {
   "cell_type": "code",
   "execution_count": 8,
   "id": "587b43b9",
   "metadata": {},
   "outputs": [
    {
     "name": "stdout",
     "output_type": "stream",
     "text": [
      "\n",
      "Note: When estimating p with very rare events and a small n, using MLE estimator leads to p=0 which sometimes is unrealistic and undesirable. In such cases, use alternative estimators.\n",
      "\n",
      "\n",
      "The fitted MLE parameters are 10 0.7023.\n"
     ]
    }
   ],
   "source": [
    "model = dft.Fitting(data, dist_type='binomial', n=10)\n",
    "(n,p) = model.fit()\n",
    "print(\"The fitted MLE parameters are %(n)d %(p).4f.\" %{'n':n, 'p':p})"
   ]
  },
  {
   "cell_type": "code",
   "execution_count": 9,
   "id": "d8ed43d2",
   "metadata": {},
   "outputs": [
    {
     "name": "stdout",
     "output_type": "stream",
     "text": [
      "Note: only a limited number of distributions are considered in this library.\n",
      "\n",
      "The possible distributions for the data are: ['Binomial', 'Geometric', 'Poisson']\n",
      "If data are binomial, n is at least 10\n"
     ]
    },
    {
     "data": {
      "text/plain": [
       "['Binomial', 'Geometric', 'Poisson']"
      ]
     },
     "execution_count": 9,
     "metadata": {},
     "output_type": "execute_result"
    }
   ],
   "source": [
    "model.guess_distributions()"
   ]
  },
  {
   "cell_type": "code",
   "execution_count": 10,
   "id": "f10e663f",
   "metadata": {},
   "outputs": [
    {
     "data": {
      "image/png": "[encoded data removed]",
      "text/plain": [
       "<Figure size 640x480 with 1 Axes>"
      ]
     },
     "metadata": {},
     "output_type": "display_data"
    }
   ],
   "source": [
    "model.binomial_plot((n,p))"
   ]
  },
  {
   "cell_type": "code",
   "execution_count": 11,
   "id": "85f6d4ab",
   "metadata": {},
   "outputs": [
    {
     "name": "stdout",
     "output_type": "stream",
     "text": [
      "Test Statistics: 3.4035889683759195 ; Critical Value: 7.814727903251178\n",
      "Accept H0 that the distribution is a good fit at the given significance level.\n"
     ]
    },
    {
     "data": {
      "text/plain": [
       "True"
      ]
     },
     "execution_count": 11,
     "metadata": {},
     "output_type": "execute_result"
    }
   ],
   "source": [
    "# perform Goodness of Fit test\n",
    "gof_test = gof.Gof(dist_type='binomial', par=(n,p))\n",
    "gof_test.gof(data)"
   ]
  },
  {
   "cell_type": "code",
   "execution_count": 9,
   "id": "c02dc433",
   "metadata": {},
   "outputs": [
    {
     "name": "stdout",
     "output_type": "stream",
     "text": [
      "0.1246416552411816\n",
      "Test Statistics: 2152.167170878046 ; Critical Value: 7.814727903251178\n",
      "Reject H0, the distribution is NOT a good fit at this significance level.\n"
     ]
    },
    {
     "data": {
      "text/plain": [
       "False"
      ]
     },
     "execution_count": 9,
     "metadata": {},
     "output_type": "execute_result"
    }
   ],
   "source": [
    "# perform Goodness of Fit test for geometric\n",
    "# first fit data to geometric\n",
    "model = dft.Fitting(data, dist_type='geometric') \n",
    "\n",
    "gof_test = gof.Gof(dist_type='geometric', par=model.fit())\n",
    "gof_test.gof(data)"
   ]
  },
  {
   "cell_type": "code",
   "execution_count": 10,
   "id": "fb08cb31",
   "metadata": {},
   "outputs": [
    {
     "name": "stdout",
     "output_type": "stream",
     "text": [
      "7.023\n",
      "Test Statistics: 363.88638837197226 ; Critical Value: 7.814727903251178\n",
      "Reject H0, the distribution is NOT a good fit at this significance level.\n"
     ]
    },
    {
     "data": {
      "text/plain": [
       "False"
      ]
     },
     "execution_count": 10,
     "metadata": {},
     "output_type": "execute_result"
    }
   ],
   "source": [
    "# perform Goodness of Fit test for poisson\n",
    "# first fit data to Poisson\n",
    "model = dft.Fitting(data, dist_type='poisson') \n",
    "\n",
    "gof_test = gof.Gof(dist_type='poisson', par=model.fit())\n",
    "gof_test.gof(data)"
   ]
  },
  {
   "cell_type": "markdown",
   "id": "210957e5",
   "metadata": {},
   "source": [
    "### 3) Geometric(0.42)\n",
    "\n",
    "It seems MLE for geometric distribution is a rough estimate"
   ]
  },
  {
   "cell_type": "code",
   "execution_count": 3,
   "id": "6e4433cb",
   "metadata": {},
   "outputs": [],
   "source": [
    "# generate data\n",
    "data_dist = dgn.Datagen(dist_type='geometric', row_count=1000, par=(.42), seed=1) \n",
    "data = data_dist.data_generation()"
   ]
  },
  {
   "cell_type": "code",
   "execution_count": 4,
   "id": "537bd452",
   "metadata": {},
   "outputs": [
    {
     "name": "stdout",
     "output_type": "stream",
     "text": [
      "The fitted MLE parameter is 0.4221.\n"
     ]
    }
   ],
   "source": [
    "# estimate MLE parameter\n",
    "model = dft.Fitting(data, dist_type='geometric')\n",
    "fitted_mle_param = model.fit()\n",
    "print(\"The fitted MLE parameter is %.4f.\" %fitted_mle_param)"
   ]
  },
  {
   "cell_type": "code",
   "execution_count": 5,
   "id": "ac2422a0",
   "metadata": {},
   "outputs": [
    {
     "name": "stdout",
     "output_type": "stream",
     "text": [
      "Note: only a limited number of distributions are considered in this library.\n",
      "\n",
      "The possible distributions for the data are: ['Binomial', 'Geometric', 'Poisson']\n",
      "If data are binomial, n is at least 11\n"
     ]
    },
    {
     "data": {
      "text/plain": [
       "['Binomial', 'Geometric', 'Poisson']"
      ]
     },
     "execution_count": 5,
     "metadata": {},
     "output_type": "execute_result"
    }
   ],
   "source": [
    "model.guess_distributions()"
   ]
  },
  {
   "cell_type": "code",
   "execution_count": 6,
   "id": "514eb3b1",
   "metadata": {},
   "outputs": [
    {
     "data": {
      "image/png": "[encoded data removed]",
      "text/plain": [
       "<Figure size 640x480 with 1 Axes>"
      ]
     },
     "metadata": {},
     "output_type": "display_data"
    }
   ],
   "source": [
    "model.geometric_plot(fitted_mle_param)"
   ]
  },
  {
   "cell_type": "code",
   "execution_count": 7,
   "id": "c9eb02b0",
   "metadata": {},
   "outputs": [
    {
     "name": "stdout",
     "output_type": "stream",
     "text": [
      "Test Statistics: 2.038668296351197 ; Critical Value: 7.814727903251178\n",
      "Accept H0 that the distribution is a good fit at the given significance level.\n"
     ]
    },
    {
     "data": {
      "text/plain": [
       "True"
      ]
     },
     "execution_count": 7,
     "metadata": {},
     "output_type": "execute_result"
    }
   ],
   "source": [
    "# perform Goodness of Fit test\n",
    "gof_test = gof.Gof(dist_type='geometric', par=(fitted_mle_param))\n",
    "gof_test.gof(data)"
   ]
  },
  {
   "cell_type": "markdown",
   "id": "c69dbc90",
   "metadata": {},
   "source": [
    "### 4) Poisson(7)"
   ]
  },
  {
   "cell_type": "code",
   "execution_count": 8,
   "id": "8987cc07",
   "metadata": {},
   "outputs": [],
   "source": [
    "# generate data\n",
    "data_dist = dgn.Datagen(dist_type='poisson', row_count=1000, par=(7), seed=1) \n",
    "data = data_dist.data_generation()"
   ]
  },
  {
   "cell_type": "code",
   "execution_count": 9,
   "id": "8e083e65",
   "metadata": {},
   "outputs": [
    {
     "name": "stdout",
     "output_type": "stream",
     "text": [
      "The fitted MLE parameter is 6.9680.\n"
     ]
    }
   ],
   "source": [
    "# estimate MLE parameter\n",
    "model = dft.Fitting(data, dist_type='poisson')\n",
    "fitted_mle_param = model.fit()\n",
    "print(\"The fitted MLE parameter is %.4f.\" %fitted_mle_param)"
   ]
  },
  {
   "cell_type": "code",
   "execution_count": 10,
   "id": "d89e1df9",
   "metadata": {},
   "outputs": [
    {
     "name": "stdout",
     "output_type": "stream",
     "text": [
      "Note: only a limited number of distributions are considered in this library.\n",
      "\n",
      "The possible distributions for the data are: ['Binomial', 'Geometric', 'Poisson']\n",
      "If data are binomial, n is at least 16\n"
     ]
    },
    {
     "data": {
      "text/plain": [
       "['Binomial', 'Geometric', 'Poisson']"
      ]
     },
     "execution_count": 10,
     "metadata": {},
     "output_type": "execute_result"
    }
   ],
   "source": [
    "model.guess_distributions()"
   ]
  },
  {
   "cell_type": "code",
   "execution_count": 12,
   "id": "9082731e",
   "metadata": {},
   "outputs": [
    {
     "data": {
      "image/png": "[encoded data removed]",
      "text/plain": [
       "<Figure size 640x480 with 1 Axes>"
      ]
     },
     "metadata": {},
     "output_type": "display_data"
    }
   ],
   "source": [
    "model.poisson_plot(fitted_mle_param)"
   ]
  },
  {
   "cell_type": "code",
   "execution_count": 14,
   "id": "434b0278",
   "metadata": {},
   "outputs": [
    {
     "name": "stdout",
     "output_type": "stream",
     "text": [
      "Test Statistics: 7.2263444055178425 ; Critical Value: 7.814727903251178\n",
      "Accept H0 that the distribution is a good fit at the given significance level.\n"
     ]
    },
    {
     "data": {
      "text/plain": [
       "True"
      ]
     },
     "execution_count": 14,
     "metadata": {},
     "output_type": "execute_result"
    }
   ],
   "source": [
    "# perform Goodness of Fit test\n",
    "gof_test = gof.Gof(dist_type='poisson', par=(fitted_mle_param))\n",
    "gof_test.gof(data)"
   ]
  },
  {
   "cell_type": "code",
   "execution_count": 15,
   "id": "8493f384",
   "metadata": {},
   "outputs": [
    {
     "name": "stdout",
     "output_type": "stream",
     "text": [
      "Test Statistics: 787.1986856511212 ; Critical Value: 7.814727903251178\n",
      "Reject H0, the distribution is NOT a good fit at this significance level.\n"
     ]
    },
    {
     "data": {
      "text/plain": [
       "False"
      ]
     },
     "execution_count": 15,
     "metadata": {},
     "output_type": "execute_result"
    }
   ],
   "source": [
    "# perform Goodness of Fit test for geometric\n",
    "# first fit data to geometric\n",
    "model = dft.Fitting(data, dist_type='geometric') \n",
    "\n",
    "gof_test = gof.Gof(dist_type='geometric', par=model.fit())\n",
    "gof_test.gof(data)"
   ]
  },
  {
   "cell_type": "code",
   "execution_count": 17,
   "id": "649068a6",
   "metadata": {},
   "outputs": [
    {
     "name": "stdout",
     "output_type": "stream",
     "text": [
      "\n",
      "Note: When estimating p with very rare events and a small n, using MLE estimator leads to p=0 which sometimes is unrealistic and undesirable. In such cases, use alternative estimators.\n",
      "\n",
      "\n",
      "Test Statistics: 115.1095498333352 ; Critical Value: 5.991464547107983\n",
      "Reject H0, the distribution is NOT a good fit at this significance level.\n"
     ]
    },
    {
     "data": {
      "text/plain": [
       "False"
      ]
     },
     "execution_count": 17,
     "metadata": {},
     "output_type": "execute_result"
    }
   ],
   "source": [
    "# perform Goodness of Fit test for binomial\n",
    "# first fit data to binomial\n",
    "model = dft.Fitting(data, dist_type='binomial', n=16) \n",
    "\n",
    "gof_test = gof.Gof(dist_type='binomial', par=model.fit())\n",
    "gof_test.gof(data)"
   ]
  },
  {
   "cell_type": "markdown",
   "id": "9b78474e",
   "metadata": {},
   "source": [
    "### 5) Uniform(2.3, 4.1)"
   ]
  },
  {
   "cell_type": "code",
   "execution_count": 18,
   "id": "82745cf9",
   "metadata": {},
   "outputs": [],
   "source": [
    "# generate data\n",
    "data_dist = dgn.Datagen(dist_type='uniform', row_count=1000, par=(2.3,4.1), seed=1) \n",
    "data = data_dist.data_generation()"
   ]
  },
  {
   "cell_type": "code",
   "execution_count": 21,
   "id": "6a1939b6",
   "metadata": {},
   "outputs": [
    {
     "name": "stdout",
     "output_type": "stream",
     "text": [
      "The fitted MLE parameters are 2.3002 4.0952.\n"
     ]
    }
   ],
   "source": [
    "# estimate MLE parameter\n",
    "model = dft.Fitting(data, dist_type='uniform')\n",
    "a, b = model.fit()\n",
    "print(\"The fitted MLE parameters are %(a).4f %(b).4f.\" %{'a':a, 'b':b})"
   ]
  },
  {
   "cell_type": "code",
   "execution_count": 22,
   "id": "9168f4ac",
   "metadata": {},
   "outputs": [
    {
     "name": "stdout",
     "output_type": "stream",
     "text": [
      "Note: only a limited number of distributions are considered in this library.\n",
      "\n",
      "The possible distributions for the data are: ['Uniform', 'Exponential', 'Normal', 'Weibull', 'Gamma']\n"
     ]
    },
    {
     "data": {
      "text/plain": [
       "['Uniform', 'Exponential', 'Normal', 'Weibull', 'Gamma']"
      ]
     },
     "execution_count": 22,
     "metadata": {},
     "output_type": "execute_result"
    }
   ],
   "source": [
    "model.guess_distributions()"
   ]
  },
  {
   "cell_type": "code",
   "execution_count": 23,
   "id": "25e0295d",
   "metadata": {},
   "outputs": [
    {
     "data": {
      "image/png": "[encoded data removed]",
      "text/plain": [
       "<Figure size 640x480 with 1 Axes>"
      ]
     },
     "metadata": {},
     "output_type": "display_data"
    }
   ],
   "source": [
    "model.uniform_plot((a,b))"
   ]
  },
  {
   "cell_type": "code",
   "execution_count": 24,
   "id": "8e6e695f",
   "metadata": {},
   "outputs": [
    {
     "name": "stdout",
     "output_type": "stream",
     "text": [
      "Test Statistics: 1.7744754096977031 ; Critical Value: 7.814727903251178\n",
      "Accept H0 that the distribution is a good fit at the given significance level.\n"
     ]
    },
    {
     "data": {
      "text/plain": [
       "True"
      ]
     },
     "execution_count": 24,
     "metadata": {},
     "output_type": "execute_result"
    }
   ],
   "source": [
    "# perform Goodness of Fit test\n",
    "gof_test = gof.Gof(dist_type='uniform', par=(a,b))\n",
    "gof_test.gof(data)"
   ]
  },
  {
   "cell_type": "markdown",
   "id": "dde81e37",
   "metadata": {},
   "source": [
    "### 6) Exponential(0.35)"
   ]
  },
  {
   "cell_type": "code",
   "execution_count": 34,
   "id": "22d51dd1",
   "metadata": {},
   "outputs": [],
   "source": [
    "# generate data\n",
    "data_dist = dgn.Datagen(dist_type='exponential', row_count=2000, par=(0.35), seed=1) \n",
    "data = data_dist.data_generation()"
   ]
  },
  {
   "cell_type": "code",
   "execution_count": 35,
   "id": "8c5c1855",
   "metadata": {},
   "outputs": [
    {
     "name": "stdout",
     "output_type": "stream",
     "text": [
      "The fitted MLE parameter is 0.3593.\n"
     ]
    }
   ],
   "source": [
    "# estimate MLE parameter\n",
    "model = dft.Fitting(data, dist_type='exponential')\n",
    "mle_param = model.fit()\n",
    "print(\"The fitted MLE parameter is %.4f.\" %mle_param)"
   ]
  },
  {
   "cell_type": "code",
   "execution_count": 36,
   "id": "f64a67cb",
   "metadata": {},
   "outputs": [
    {
     "name": "stdout",
     "output_type": "stream",
     "text": [
      "Note: only a limited number of distributions are considered in this library.\n",
      "\n",
      "The possible distributions for the data are: ['Uniform', 'Exponential', 'Normal', 'Weibull', 'Gamma']\n"
     ]
    },
    {
     "data": {
      "text/plain": [
       "['Uniform', 'Exponential', 'Normal', 'Weibull', 'Gamma']"
      ]
     },
     "execution_count": 36,
     "metadata": {},
     "output_type": "execute_result"
    }
   ],
   "source": [
    "model.guess_distributions()"
   ]
  },
  {
   "cell_type": "code",
   "execution_count": 37,
   "id": "ba73bee4",
   "metadata": {},
   "outputs": [
    {
     "data": {
      "image/png": "[encoded data removed]",
      "text/plain": [
       "<Figure size 640x480 with 1 Axes>"
      ]
     },
     "metadata": {},
     "output_type": "display_data"
    }
   ],
   "source": [
    "model.exponential_plot(mle_param)"
   ]
  },
  {
   "cell_type": "code",
   "execution_count": 38,
   "id": "e52fb32d",
   "metadata": {},
   "outputs": [
    {
     "name": "stdout",
     "output_type": "stream",
     "text": [
      "Test Statistics: 4.057442187982422 ; Critical Value: 7.814727903251178\n",
      "Accept H0 that the distribution is a good fit at the given significance level.\n"
     ]
    },
    {
     "data": {
      "text/plain": [
       "True"
      ]
     },
     "execution_count": 38,
     "metadata": {},
     "output_type": "execute_result"
    }
   ],
   "source": [
    "# perform Goodness of Fit test\n",
    "gof_test = gof.Gof(dist_type='exponential', par=mle_param)\n",
    "gof_test.gof(data)"
   ]
  },
  {
   "cell_type": "markdown",
   "id": "b0c4077f",
   "metadata": {},
   "source": [
    "### 7) Normal(3,2)"
   ]
  },
  {
   "cell_type": "code",
   "execution_count": 12,
   "id": "4f6f7bad",
   "metadata": {},
   "outputs": [
    {
     "name": "stdout",
     "output_type": "stream",
     "text": [
      "2.9980220524801653 2.0135990113646702\n"
     ]
    }
   ],
   "source": [
    "data = data_generation('normal', (3,2), row_count)\n",
    "\n",
    "model = dft.Fitting(data)\n",
    "a,b = model.normal_fit()\n",
    "print(a, b)"
   ]
  },
  {
   "cell_type": "code",
   "execution_count": 13,
   "id": "56b8fd18",
   "metadata": {},
   "outputs": [
    {
     "name": "stdout",
     "output_type": "stream",
     "text": [
      "Note: only a limited number of distributions are considered in this library.\n",
      "\n",
      "The possible distributions for the data are: ['Uniform', 'Normal']\n"
     ]
    },
    {
     "data": {
      "text/plain": [
       "['Uniform', 'Normal']"
      ]
     },
     "execution_count": 13,
     "metadata": {},
     "output_type": "execute_result"
    }
   ],
   "source": [
    "model.guess_distributions()"
   ]
  },
  {
   "cell_type": "markdown",
   "id": "6f11ecc2",
   "metadata": {},
   "source": [
    "#### GoF\n",
    "Performing Goodness of Fit for Normal & Uniform"
   ]
  },
  {
   "cell_type": "code",
   "execution_count": 33,
   "id": "ad728bbe",
   "metadata": {},
   "outputs": [],
   "source": [
    "# Perform GoF\n",
    "from scipy.stats import goodness_of_fit as gof\n",
    "import scipy.stats"
   ]
  },
  {
   "cell_type": "code",
   "execution_count": 34,
   "id": "2d6dc126",
   "metadata": {},
   "outputs": [
    {
     "data": {
      "text/plain": [
       "GoodnessOfFitResult(fit_result=  params: FitParams(loc=3.027238046501875, scale=2.004243494825721)\n",
       " success: True\n",
       " message: 'The fit was performed successfully.', statistic=0.6920102078584023, pvalue=0.0709, null_distribution=array([0.31331213, 0.35092277, 0.42675564, ..., 0.34044246, 0.42806255,\n",
       "       0.19192935]))"
      ]
     },
     "execution_count": 34,
     "metadata": {},
     "output_type": "execute_result"
    }
   ],
   "source": [
    "gof(dist=scipy.stats.norm, data=data, known_params=None, fit_params={'loc':a, 'scale':b}, guessed_params=None)"
   ]
  },
  {
   "cell_type": "code",
   "execution_count": 38,
   "id": "478488e7",
   "metadata": {},
   "outputs": [
    {
     "data": {
      "text/plain": [
       "GoodnessOfFitResult(fit_result=  params: FitParams(loc=-4.35544317585887, scale=11.089562399168333)\n",
       " success: False\n",
       " message: 'Optimization converged to parameter values that are inconsistent with the data.', statistic=inf, pvalue=1.0, null_distribution=array([inf, inf, inf, ..., inf, inf, inf]))"
      ]
     },
     "execution_count": 38,
     "metadata": {},
     "output_type": "execute_result"
    }
   ],
   "source": [
    "a1,b1 = model.uniform_fit()\n",
    "gof(dist=scipy.stats.uniform, data=data, known_params=None, fit_params={'loc':a1, 'scale':b1}, guessed_params=None)"
   ]
  },
  {
   "cell_type": "code",
   "execution_count": 10,
   "id": "56f8da3d",
   "metadata": {
    "scrolled": true
   },
   "outputs": [
    {
     "data": {
      "image/png": "[encoded data removed]",
      "text/plain": [
       "<Figure size 640x480 with 1 Axes>"
      ]
     },
     "metadata": {},
     "output_type": "display_data"
    }
   ],
   "source": [
    "model.normal_plot(params=(a,b))"
   ]
  },
  {
   "cell_type": "markdown",
   "id": "7e3230a9",
   "metadata": {},
   "source": [
    "### 8) Weibull(2.1, 4.3)"
   ]
  },
  {
   "cell_type": "code",
   "execution_count": 14,
   "id": "0440caf0",
   "metadata": {},
   "outputs": [
    {
     "name": "stdout",
     "output_type": "stream",
     "text": [
      "2.0919867034118376 4.269614281841613\n"
     ]
    }
   ],
   "source": [
    "data = data_generation('weibull', (2.1, 4.3), row_count)\n",
    "\n",
    "model = dft.Fitting(data)\n",
    "a,b = model.weibull_fit()\n",
    "print(a, b)"
   ]
  },
  {
   "cell_type": "code",
   "execution_count": 15,
   "id": "7df5d878",
   "metadata": {},
   "outputs": [
    {
     "name": "stdout",
     "output_type": "stream",
     "text": [
      "Note: only a limited number of distributions are considered in this library.\n",
      "\n",
      "The possible distributions for the data are: ['Uniform', 'Exponential', 'Weibull', 'Gamma']\n"
     ]
    },
    {
     "data": {
      "text/plain": [
       "['Uniform', 'Exponential', 'Weibull', 'Gamma']"
      ]
     },
     "execution_count": 15,
     "metadata": {},
     "output_type": "execute_result"
    }
   ],
   "source": [
    "model.guess_distributions()"
   ]
  },
  {
   "cell_type": "code",
   "execution_count": 13,
   "id": "2514187c",
   "metadata": {},
   "outputs": [
    {
     "data": {
      "image/png": "[encoded data removed]",
      "text/plain": [
       "<Figure size 640x480 with 1 Axes>"
      ]
     },
     "metadata": {},
     "output_type": "display_data"
    }
   ],
   "source": [
    "model.weibull_plot((a,b))"
   ]
  },
  {
   "cell_type": "markdown",
   "id": "a8037961",
   "metadata": {},
   "source": [
    "### 9) Gamma(3.1, 5.6)"
   ]
  },
  {
   "cell_type": "code",
   "execution_count": 16,
   "id": "74495ee6",
   "metadata": {},
   "outputs": [
    {
     "name": "stdout",
     "output_type": "stream",
     "text": [
      "3.1294751546778032 5.600464381113792\n"
     ]
    }
   ],
   "source": [
    "data = data_generation('gamma', (3.1, 5.6), row_count)\n",
    "\n",
    "model = dft.Fitting(data)\n",
    "a,b = model.gamma_fit()\n",
    "print(a, b)"
   ]
  },
  {
   "cell_type": "code",
   "execution_count": 17,
   "id": "101dbc95",
   "metadata": {},
   "outputs": [
    {
     "name": "stdout",
     "output_type": "stream",
     "text": [
      "Note: only a limited number of distributions are considered in this library.\n",
      "\n",
      "The possible distributions for the data are: ['Uniform', 'Exponential', 'Weibull', 'Gamma']\n"
     ]
    },
    {
     "data": {
      "text/plain": [
       "['Uniform', 'Exponential', 'Weibull', 'Gamma']"
      ]
     },
     "execution_count": 17,
     "metadata": {},
     "output_type": "execute_result"
    }
   ],
   "source": [
    "model.guess_distributions()"
   ]
  },
  {
   "cell_type": "code",
   "execution_count": 6,
   "id": "20177ec2",
   "metadata": {},
   "outputs": [
    {
     "data": {
      "image/png": "[encoded data removed]",
      "text/plain": [
       "<Figure size 640x480 with 1 Axes>"
      ]
     },
     "metadata": {},
     "output_type": "display_data"
    }
   ],
   "source": [
    "model.gamma_plot((a,b))"
   ]
  },
  {
   "cell_type": "markdown",
   "id": "3b10dacc",
   "metadata": {},
   "source": [
    "### Approximate Chi-squared GoF Test "
   ]
  },
  {
   "cell_type": "code",
   "execution_count": null,
   "id": "79016f21",
   "metadata": {},
   "outputs": [],
   "source": []
  }
 ],
 "metadata": {
  "kernelspec": {
   "display_name": "Python 3 (ipykernel)",
   "language": "python",
   "name": "python3"
  },
  "language_info": {
   "codemirror_mode": {
    "name": "ipython",
    "version": 3
   },
   "file_extension": ".py",
   "mimetype": "text/x-python",
   "name": "python",
   "nbconvert_exporter": "python",
   "pygments_lexer": "ipython3",
   "version": "3.11.4"
  }
 },
 "nbformat": 4,
 "nbformat_minor": 5
}
